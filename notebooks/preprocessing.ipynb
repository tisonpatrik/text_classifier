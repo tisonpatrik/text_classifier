{
 "cells": [
  {
   "cell_type": "code",
   "execution_count": 89,
   "metadata": {},
   "outputs": [],
   "source": [
    "import matplotlib.pyplot as plt\n",
    "import pandas as pd\n",
    "import numpy as np\n",
    "from sklearn.model_selection import train_test_split"
   ]
  },
  {
   "cell_type": "code",
   "execution_count": 90,
   "metadata": {},
   "outputs": [],
   "source": [
    "data_source = '../data/raw/raw_data.csv'\n",
    "data = pd.read_csv(data_source)"
   ]
  },
  {
   "cell_type": "code",
   "execution_count": 91,
   "metadata": {},
   "outputs": [
    {
     "name": "stdout",
     "output_type": "stream",
     "text": [
      "  category                                          rss_title  \\\n",
      "0  biatlon  Krčmář dojel v hromadném závodě devátý, díky s...   \n",
      "1  biatlon  Česká vlajka byla v Pokljuce vidět i ve štafet...   \n",
      "2  biatlon     Živě: Stíhací závod biatlonistek v Ruhpoldingu   \n",
      "3   fotbal  Bakoš dostal herdu do nosu a v zápase plném ka...   \n",
      "4   fotbal  My moc chtěli a Plzeň moc nechtěla, zní z Ďolí...   \n",
      "\n",
      "                                           rss_perex  \n",
      "0  Závod s hromadným startem v německém Oberhofu ...  \n",
      "1                                            Galerie  \n",
      "2                                      15. 1., 14:45  \n",
      "3  Slovenský útočník Marek Bakoš zařídil Plzni gó...  \n",
      "4  Český fotbal hledá viníka skandálu odloženého ...  \n"
     ]
    }
   ],
   "source": [
    "print(data.head())"
   ]
  },
  {
   "cell_type": "code",
   "execution_count": 92,
   "metadata": {},
   "outputs": [
    {
     "name": "stdout",
     "output_type": "stream",
     "text": [
      "<class 'pandas.core.frame.DataFrame'>\n",
      "RangeIndex: 111218 entries, 0 to 111217\n",
      "Data columns (total 3 columns):\n",
      " #   Column     Non-Null Count   Dtype \n",
      "---  ------     --------------   ----- \n",
      " 0   category   111218 non-null  object\n",
      " 1   rss_title  111218 non-null  object\n",
      " 2   rss_perex  111218 non-null  object\n",
      "dtypes: object(3)\n",
      "memory usage: 2.5+ MB\n",
      "None\n"
     ]
    }
   ],
   "source": [
    "print(data.info())"
   ]
  },
  {
   "cell_type": "code",
   "execution_count": 93,
   "metadata": {},
   "outputs": [
    {
     "name": "stdout",
     "output_type": "stream",
     "text": [
      "       category          rss_title rss_perex\n",
      "count    111218             111218    111218\n",
      "unique       24              99524     93319\n",
      "top      fotbal  Karolína Plíšková   Galerie\n",
      "freq      45891                102       247\n"
     ]
    }
   ],
   "source": [
    "print(data.describe())"
   ]
  },
  {
   "cell_type": "code",
   "execution_count": 94,
   "metadata": {},
   "outputs": [
    {
     "name": "stdout",
     "output_type": "stream",
     "text": [
      "['atletika' 'baseball' 'basketbal' 'biatlon' 'box' 'cyklistika' 'dostihy'\n",
      " 'florbal' 'formule1' 'fotbal' 'futsal' 'golf' 'hazena' 'hokej' 'hokejbal'\n",
      " 'krasobrusleni' 'lyze_snowboard' 'moto' 'olympijske_hry' 'rugby'\n",
      " 'rychlobrusleni' 'tenis' 'vodni_sporty' 'volejbal']\n"
     ]
    }
   ],
   "source": [
    "unique_categories = data['category'].unique()\n",
    "unique_categories.sort()\n",
    "print(unique_categories)\n"
   ]
  },
  {
   "cell_type": "code",
   "execution_count": 95,
   "metadata": {},
   "outputs": [
    {
     "name": "stdout",
     "output_type": "stream",
     "text": [
      "category\n",
      "fotbal            45891\n",
      "hokej             28775\n",
      "tenis             11437\n",
      "formule1           5733\n",
      "moto               4813\n",
      "atletika           2552\n",
      "basketbal          2492\n",
      "cyklistika         2048\n",
      "biatlon            1526\n",
      "olympijske_hry     1322\n",
      "lyze_snowboard      957\n",
      "volejbal            838\n",
      "hazena              666\n",
      "vodni_sporty        601\n",
      "florbal             527\n",
      "golf                455\n",
      "box                 149\n",
      "baseball            143\n",
      "krasobrusleni        77\n",
      "rychlobrusleni       65\n",
      "dostihy              56\n",
      "rugby                46\n",
      "futsal               43\n",
      "hokejbal              6\n",
      "Name: count, dtype: int64\n"
     ]
    }
   ],
   "source": [
    "category_counts = data['category'].value_counts()\n",
    "print(category_counts)"
   ]
  },
  {
   "cell_type": "code",
   "execution_count": 96,
   "metadata": {},
   "outputs": [],
   "source": [
    "def plot_histogram(data, column_name):\n",
    "    temp_data = data.copy()\n",
    "    \n",
    "    column_name_length = f'{column_name}_length'\n",
    "    temp_data[column_name_length] = temp_data[column_name].str.len()\n",
    "\n",
    "    plt.figure(figsize=(10, 6))\n",
    "    plt.hist(temp_data[column_name_length], bins=50, color='skyblue', edgecolor='black')\n",
    "    plt.title(f'Histogram of Lengths of {column_name}')\n",
    "    plt.xlabel(f'Length of {column_name}')\n",
    "    plt.ylabel('Frequency')\n",
    "    plt.grid(True)\n",
    "    plt.show()"
   ]
  },
  {
   "cell_type": "code",
   "execution_count": 97,
   "metadata": {},
   "outputs": [],
   "source": [
    "def print_data_infos(data, column_name):\n",
    "    # Calculate the lengths of titles without generating a warning\n",
    "    data['length'] = data[column_name].str.len()\n",
    "\n",
    "    # Find the shortest and longest title lengths directly\n",
    "    shortest_title = data['length'].min()\n",
    "    longest_title = data['length'].max()\n",
    "\n",
    "    # Calculate the percentiles\n",
    "    percentiles = data['length'].quantile([0.05, 0.5, 0.95])\n",
    "\n",
    "    print(f\"Length of shortest {column_name}: {shortest_title}\")\n",
    "    print(f\"Length of longest {column_name}: {longest_title}\")\n",
    "    print(\"Percentiles:\")\n",
    "    print(percentiles)"
   ]
  },
  {
   "cell_type": "code",
   "execution_count": 98,
   "metadata": {},
   "outputs": [
    {
     "name": "stdout",
     "output_type": "stream",
     "text": [
      "                                                text category  label\n",
      "0  Krčmář dojel v hromadném závodě devátý, díky s...  biatlon      3\n",
      "1  Česká vlajka byla v Pokljuce vidět i ve štafet...  biatlon      3\n",
      "2  Živě: Stíhací závod biatlonistek v Ruhpoldingu...  biatlon      3\n",
      "3  Bakoš dostal herdu do nosu a v zápase plném ka...   fotbal      9\n",
      "4  My moc chtěli a Plzeň moc nechtěla, zní z Ďolí...   fotbal      9\n"
     ]
    }
   ],
   "source": [
    "data['text'] = data['rss_title'] + ' ' + data['rss_perex']\n",
    "# Select the relevant columns\n",
    "selected_data = data[['text', 'category']].copy()\n",
    "# Encode the 'category' column and start the codes from 0\n",
    "selected_data['label'] = selected_data['category'].astype('category').cat.codes\n",
    "# Shift the codes by the minimum value to ensure they start from 0\n",
    "selected_data.loc[:, 'label'] -= selected_data['label'].min()\n",
    "print(selected_data.head())\n"
   ]
  },
  {
   "cell_type": "code",
   "execution_count": 99,
   "metadata": {},
   "outputs": [],
   "source": [
    "labels = selected_data[['label','category']]\n",
    "unique_data = labels.drop_duplicates()\n",
    "sorted_data = unique_data.sort_values(by='label')\n",
    "sorted_data = sorted_data.rename(columns={'label': 'id', 'category': 'label'})\n",
    "sorted_data.to_csv('../labels/labels.csv', index=False)"
   ]
  },
  {
   "cell_type": "code",
   "execution_count": 100,
   "metadata": {},
   "outputs": [],
   "source": [
    "# Drop the 'category' column\n",
    "result = selected_data.drop('category', axis=1)"
   ]
  },
  {
   "cell_type": "code",
   "execution_count": 101,
   "metadata": {},
   "outputs": [
    {
     "data": {
      "image/png": "[encoded data removed]",
      "text/plain": [
       "<Figure size 1000x600 with 1 Axes>"
      ]
     },
     "metadata": {},
     "output_type": "display_data"
    }
   ],
   "source": [
    "plot_histogram(result, 'text')"
   ]
  },
  {
   "cell_type": "code",
   "execution_count": 102,
   "metadata": {},
   "outputs": [
    {
     "name": "stdout",
     "output_type": "stream",
     "text": [
      "Length of shortest text: 9\n",
      "Length of longest text: 2751\n",
      "Percentiles:\n",
      "0.05    104.0\n",
      "0.50    367.0\n",
      "0.95    640.0\n",
      "Name: length, dtype: float64\n"
     ]
    }
   ],
   "source": [
    "print_data_infos(result, 'text')"
   ]
  },
  {
   "cell_type": "code",
   "execution_count": 103,
   "metadata": {},
   "outputs": [
    {
     "name": "stdout",
     "output_type": "stream",
     "text": [
      "108195\n"
     ]
    },
    {
     "data": {
      "image/png": "[encoded data removed]",
      "text/plain": [
       "<Figure size 1000x600 with 1 Axes>"
      ]
     },
     "metadata": {},
     "output_type": "display_data"
    }
   ],
   "source": [
    "# filter data what are out of distribution\n",
    "min_length = 30\n",
    "max_length = 700\n",
    "filtered_data = result[(result['text'].str.len() >= min_length) & (result['text'].str.len() <= max_length)]\n",
    "print(len(filtered_data))\n",
    "plot_histogram(filtered_data, 'text')"
   ]
  },
  {
   "cell_type": "code",
   "execution_count": 104,
   "metadata": {},
   "outputs": [
    {
     "name": "stdout",
     "output_type": "stream",
     "text": [
      "                                                text  label  length\n",
      "0  Krčmář dojel v hromadném závodě devátý, díky s...      3     359\n",
      "1  Česká vlajka byla v Pokljuce vidět i ve štafet...      3      86\n",
      "2  Živě: Stíhací závod biatlonistek v Ruhpoldingu...      3      60\n",
      "3  Bakoš dostal herdu do nosu a v zápase plném ka...      9     146\n",
      "4  My moc chtěli a Plzeň moc nechtěla, zní z Ďolí...      9     185\n"
     ]
    }
   ],
   "source": [
    "print(result.head())"
   ]
  },
  {
   "cell_type": "code",
   "execution_count": 105,
   "metadata": {},
   "outputs": [],
   "source": [
    "result = result[['text', 'label']]"
   ]
  },
  {
   "cell_type": "code",
   "execution_count": 106,
   "metadata": {},
   "outputs": [
    {
     "name": "stdout",
     "output_type": "stream",
     "text": [
      "[ 3  9 13 17  0  5 21  8 23  2  7 18 16  4  1 11 12 22 15  6 19 20 10 14]\n"
     ]
    }
   ],
   "source": [
    "unique_values = result['label'].unique()\n",
    "print(unique_values)"
   ]
  },
  {
   "cell_type": "code",
   "execution_count": 107,
   "metadata": {},
   "outputs": [
    {
     "name": "stdout",
     "output_type": "stream",
     "text": [
      "[ 0  1  2  3  4  5  6  7  8  9 10 11 12 13 14 15 16 17 18 19 20 21 22 23]\n",
      "[ 0  1  2  3  4  5  6  7  8  9 10 11 12 13 15 16 17 18 19 20 21 22 23]\n"
     ]
    }
   ],
   "source": [
    "train_data, test_data = train_test_split(result, test_size=0.15, random_state=42)\n",
    "\n",
    "# Extract unique values\n",
    "train_unique_values = train_data['label'].unique()\n",
    "test_unique_values = test_data['label'].unique()\n",
    "\n",
    "\n",
    "# Sort the unique values\n",
    "sorted_train_unique_values = np.sort(train_unique_values)\n",
    "sorted_test_unique_values = np.sort(test_unique_values)\n",
    "\n",
    "print(sorted_train_unique_values)\n",
    "print(sorted_test_unique_values)"
   ]
  },
  {
   "cell_type": "code",
   "execution_count": 108,
   "metadata": {},
   "outputs": [],
   "source": [
    "train_data.to_csv('../data/processed/train.csv', index=False,encoding='utf-8')\n",
    "test_data.to_csv('../data/processed/test.csv', index=False,encoding='utf-8')"
   ]
  }
 ],
 "metadata": {
  "kernelspec": {
   "display_name": "Python 3",
   "language": "python",
   "name": "python3"
  },
  "language_info": {
   "codemirror_mode": {
    "name": "ipython",
    "version": 3
   },
   "file_extension": ".py",
   "mimetype": "text/x-python",
   "name": "python",
   "nbconvert_exporter": "python",
   "pygments_lexer": "ipython3",
   "version": "3.11.0rc1"
  }
 },
 "nbformat": 4,
 "nbformat_minor": 2
}
