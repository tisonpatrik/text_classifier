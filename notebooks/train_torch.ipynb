{
 "cells": [
  {
   "cell_type": "code",
   "execution_count": null,
   "metadata": {},
   "outputs": [],
   "source": [
    "#better use this script in a virtual environment or cuda container\n",
    "!pip install transformers accelerate bitsandbytes peft datasets trl\n",
    "!pip install flash-attn --no-build-isolation"
   ]
  },
  {
   "cell_type": "code",
   "execution_count": null,
   "metadata": {},
   "outputs": [],
   "source": [
    "import os\n",
    "import torch\n",
    "\n",
    "import pandas as pd\n",
    "import numpy as np\n",
    "\n",
    "from datasets import load_dataset, load_metric\n",
    "from torch.utils.data import Dataset, DataLoader, random_split\n",
    "from transformers import DistilBertForSequenceClassification, DistilBertTokenizer, BitsAndBytesConfig, TrainingArguments, DataCollatorWithPadding\n",
    "from peft import LoraConfig, get_peft_model, prepare_model_for_kbit_training\n",
    "from trl import SFTTrainer"
   ]
  },
  {
   "cell_type": "code",
   "execution_count": null,
   "metadata": {},
   "outputs": [],
   "source": [
    "path = \"../data/processed\"\n",
    "dataset = load_dataset(path)"
   ]
  },
  {
   "cell_type": "code",
   "execution_count": null,
   "metadata": {},
   "outputs": [],
   "source": [
    "MODEL_NAME = \"distilbert-base-uncased\""
   ]
  },
  {
   "cell_type": "code",
   "execution_count": null,
   "metadata": {},
   "outputs": [],
   "source": [
    "# quantization config\n",
    "bitsandbytes_config = BitsAndBytesConfig(\n",
    "    load_in_4bit=True,\n",
    "    bnb_4bit_quant_type=\"fp4\",\n",
    "    bnb_4bit_compute_dtype=torch.float16,  \n",
    "    llm_int8_enable_fp32_cpu_offload=False,\n",
    "    llm_int8_has_fp16_weight=True,\n",
    ")"
   ]
  },
  {
   "cell_type": "code",
   "execution_count": null,
   "metadata": {},
   "outputs": [],
   "source": [
    "df = dataset['train'].to_pandas()\n",
    "count_of_categories = df['label'].nunique()\n",
    "print(count_of_categories)"
   ]
  },
  {
   "cell_type": "code",
   "execution_count": null,
   "metadata": {},
   "outputs": [],
   "source": [
    "tokenizer = DistilBertTokenizer.from_pretrained(MODEL_NAME)\n",
    "\n",
    "# Ensure tokenizer has an EOS token\n",
    "if tokenizer.eos_token is None:\n",
    "    tokenizer.add_special_tokens({'eos_token': '[EOS]'})\n",
    "\n",
    "# Explicitly add a pad token if it's not set correctly\n",
    "if tokenizer.pad_token is None:\n",
    "    tokenizer.add_special_tokens({'pad_token': '[PAD]'})\n",
    "\n",
    "tokenizer.pad_token = tokenizer.eos_token  # Alternatively, you can use the newly added '[PAD]' token\n",
    "tokenizer.padding_side = \"right\""
   ]
  },
  {
   "cell_type": "code",
   "execution_count": null,
   "metadata": {},
   "outputs": [],
   "source": [
    "def tokenize_and_get_lengths(examples):\n",
    "    tokenized_examples = tokenizer(examples['text'], truncation=False, padding=False)\n",
    "    return {'length': [len(tokens) for tokens in tokenized_examples['input_ids']]}\n",
    "\n",
    "measure = dataset.map(tokenize_and_get_lengths, batched=True, remove_columns=['text'])\n",
    "\n",
    "max_seq_length = max(measure['train']['length'])\n",
    "print(f'Max lenght of sequence: {max_seq_length}')"
   ]
  },
  {
   "cell_type": "code",
   "execution_count": null,
   "metadata": {},
   "outputs": [],
   "source": [
    "max_seq_length = 512"
   ]
  },
  {
   "cell_type": "code",
   "execution_count": null,
   "metadata": {},
   "outputs": [],
   "source": [
    "train_label = dataset['train']\n",
    "test_label = dataset['test']"
   ]
  },
  {
   "cell_type": "code",
   "execution_count": null,
   "metadata": {},
   "outputs": [],
   "source": [
    "#need to be refactored, sometimes this method printing errors, sometigmes not...\n",
    "vocab_size = tokenizer.vocab_size\n",
    "\n",
    "def preprocess_function(examples):\n",
    "    tokenized_examples = tokenizer(examples['text'], max_length=max_seq_length,truncation=True, padding=True)\n",
    "    tokenized_examples['label'] = examples['label']\n",
    "    # Check if any input_ids exceed the vocabulary size\n",
    "    for input_ids in tokenized_examples['input_ids']:\n",
    "        if any(id >= vocab_size for id in input_ids):\n",
    "            print(f\"Input ID out of range: {input_ids}\")\n",
    "    # Keep only input_ids, attention_mask, and label\n",
    "    processed_examples = {\n",
    "        'input_ids': tokenized_examples['input_ids'],\n",
    "        'attention_mask': tokenized_examples['attention_mask'],\n",
    "        'label': tokenized_examples['label']\n",
    "    }\n",
    "    return processed_examples"
   ]
  },
  {
   "cell_type": "code",
   "execution_count": null,
   "metadata": {},
   "outputs": [],
   "source": [
    "tokenized_train = train_label.map(preprocess_function, batched=True,remove_columns=['text'])\n",
    "tokenized_test = test_label.map(preprocess_function, batched=True, remove_columns=['text'])"
   ]
  },
  {
   "cell_type": "code",
   "execution_count": null,
   "metadata": {},
   "outputs": [],
   "source": [
    "data_collator = DataCollatorWithPadding(tokenizer=tokenizer)"
   ]
  },
  {
   "cell_type": "code",
   "execution_count": null,
   "metadata": {},
   "outputs": [],
   "source": [
    "def compute_metrics(eval_pred):\n",
    "   load_accuracy = load_metric(\"accuracy\")\n",
    "   load_f1 = load_metric(\"f1\")\n",
    "  \n",
    "   logits, labels = eval_pred\n",
    "   predictions = np.argmax(logits, axis=-1)\n",
    "   accuracy = load_accuracy.compute(predictions=predictions, references=labels)[\"accuracy\"]\n",
    "   f1 = load_f1.compute(predictions=predictions, references=labels)[\"f1\"]\n",
    "   return {\"accuracy\": accuracy, \"f1\": f1}"
   ]
  },
  {
   "cell_type": "code",
   "execution_count": null,
   "metadata": {},
   "outputs": [],
   "source": [
    "model = DistilBertForSequenceClassification.from_pretrained(\n",
    "    MODEL_NAME,\n",
    "    quantization_config=bitsandbytes_config,\n",
    "    attn_implementation=\"flash_attention_2\",\n",
    "    num_labels=count_of_categories\n",
    ")"
   ]
  },
  {
   "cell_type": "code",
   "execution_count": null,
   "metadata": {},
   "outputs": [],
   "source": [
    "# little bit a suger for more effeciency\n",
    "peft_config = LoraConfig(\n",
    "    lora_alpha=16,\n",
    "    lora_dropout=0.1,\n",
    "    r=64,\n",
    "    bias=\"none\",\n",
    "    target_modules=[\"attention.q_lin\", \"attention.k_lin\", \"attention.v_lin\", \"attention.out_lin\"],  # Correct target modules\n",
    "    task_type=\"CAUSAL_LM\"\n",
    ")"
   ]
  },
  {
   "cell_type": "code",
   "execution_count": null,
   "metadata": {},
   "outputs": [],
   "source": [
    "model = prepare_model_for_kbit_training(model)\n",
    "model = get_peft_model(model, peft_config)"
   ]
  },
  {
   "cell_type": "code",
   "execution_count": null,
   "metadata": {},
   "outputs": [],
   "source": [
    "args = TrainingArguments(\n",
    "  output_dir = MODEL_NAME,\n",
    "  num_train_epochs=5,\n",
    "  per_device_train_batch_size=16,\n",
    "  per_device_eval_batch_size=16,  warmup_steps = 0.03,\n",
    "  logging_steps=10,\n",
    "  weight_decay=0.01,\n",
    "  save_strategy=\"epoch\",\n",
    "  eval_strategy=\"epoch\",\n",
    "  learning_rate=2.5e-5,\n",
    "  bf16=False,\n",
    ")"
   ]
  },
  {
   "cell_type": "code",
   "execution_count": null,
   "metadata": {},
   "outputs": [],
   "source": [
    "max_seq_length = 512\n",
    "\n",
    "trainer = SFTTrainer(\n",
    "  model=model,\n",
    "  peft_config=peft_config,\n",
    "  max_seq_length=max_seq_length,\n",
    "  dataset_text_field=\"text\",\n",
    "  tokenizer=tokenizer,\n",
    "  packing=True,\n",
    "  args=args,\n",
    "  train_dataset=tokenized_train,\n",
    "  eval_dataset=tokenized_test,\n",
    "  data_collator=data_collator,\n",
    "  compute_metrics=compute_metrics,\n",
    ")"
   ]
  },
  {
   "cell_type": "code",
   "execution_count": null,
   "metadata": {},
   "outputs": [],
   "source": [
    "trainer.train()"
   ]
  },
  {
   "cell_type": "code",
   "execution_count": null,
   "metadata": {},
   "outputs": [],
   "source": [
    "trainer.evaluate()"
   ]
  },
  {
   "cell_type": "code",
   "execution_count": null,
   "metadata": {},
   "outputs": [],
   "source": []
  },
  {
   "cell_type": "code",
   "execution_count": null,
   "metadata": {},
   "outputs": [],
   "source": []
  },
  {
   "cell_type": "code",
   "execution_count": null,
   "metadata": {},
   "outputs": [],
   "source": []
  }
 ],
 "metadata": {
  "kernelspec": {
   "display_name": "Python 3",
   "language": "python",
   "name": "python3"
  },
  "language_info": {
   "name": "python",
   "version": "3.11.0"
  }
 },
 "nbformat": 4,
 "nbformat_minor": 2
}
