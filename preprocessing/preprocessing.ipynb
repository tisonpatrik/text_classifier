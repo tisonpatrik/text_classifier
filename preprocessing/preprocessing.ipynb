{
 "cells": [
  {
   "cell_type": "code",
   "execution_count": null,
   "metadata": {},
   "outputs": [],
   "source": [
    "import matplotlib.pyplot as plt\n",
    "import pandas as pd"
   ]
  },
  {
   "cell_type": "code",
   "execution_count": null,
   "metadata": {},
   "outputs": [],
   "source": [
    "data_source = '../data/raw_data.csv'\n",
    "data = pd.read_csv(data_source)"
   ]
  },
  {
   "cell_type": "code",
   "execution_count": null,
   "metadata": {},
   "outputs": [],
   "source": [
    "print(data.head())"
   ]
  },
  {
   "cell_type": "code",
   "execution_count": null,
   "metadata": {},
   "outputs": [],
   "source": [
    "print(data.info())"
   ]
  },
  {
   "cell_type": "code",
   "execution_count": null,
   "metadata": {},
   "outputs": [],
   "source": [
    "print(data.describe())"
   ]
  },
  {
   "cell_type": "code",
   "execution_count": null,
   "metadata": {},
   "outputs": [],
   "source": [
    "unique_categories = data['category'].unique()\n",
    "unique_categories.sort()\n",
    "print(unique_categories)\n"
   ]
  },
  {
   "cell_type": "code",
   "execution_count": null,
   "metadata": {},
   "outputs": [],
   "source": [
    "category_counts = data['category'].value_counts()\n",
    "print(category_counts)"
   ]
  },
  {
   "cell_type": "markdown",
   "metadata": {},
   "source": [
    "rss_perex analysis"
   ]
  },
  {
   "cell_type": "code",
   "execution_count": null,
   "metadata": {},
   "outputs": [],
   "source": [
    "def plot_histogram(data, column_name):\n",
    "    temp_data = data.copy()\n",
    "    \n",
    "    column_name_length = f'{column_name}_length'\n",
    "    temp_data[column_name_length] = temp_data[column_name].str.len()\n",
    "\n",
    "    plt.figure(figsize=(10, 6))\n",
    "    plt.hist(temp_data[column_name_length], bins=50, color='skyblue', edgecolor='black')\n",
    "    plt.title(f'Histogram of Lengths of {column_name}')\n",
    "    plt.xlabel(f'Length of {column_name}')\n",
    "    plt.ylabel('Frequency')\n",
    "    plt.grid(True)\n",
    "    plt.show()"
   ]
  },
  {
   "cell_type": "code",
   "execution_count": null,
   "metadata": {},
   "outputs": [],
   "source": [
    "def print_data_infos(data, column_name):\n",
    "    # Calculate the lengths of titles without generating a warning\n",
    "    data['length'] = data[column_name].str.len()\n",
    "\n",
    "    # Find the shortest and longest title lengths directly\n",
    "    shortest_title = data['length'].min()\n",
    "    longest_title = data['length'].max()\n",
    "\n",
    "    # Calculate the percentiles\n",
    "    percentiles = data['length'].quantile([0.05, 0.5, 0.95])\n",
    "\n",
    "    print(f\"Length of shortest {column_name}: {shortest_title}\")\n",
    "    print(f\"Length of longest {column_name}: {longest_title}\")\n",
    "    print(\"Percentiles:\")\n",
    "    print(percentiles)"
   ]
  },
  {
   "cell_type": "code",
   "execution_count": null,
   "metadata": {},
   "outputs": [],
   "source": [
    "plot_histogram(data, 'rss_perex')"
   ]
  },
  {
   "cell_type": "code",
   "execution_count": null,
   "metadata": {},
   "outputs": [],
   "source": [
    "print_data_infos(data, 'rss_perex')"
   ]
  },
  {
   "cell_type": "code",
   "execution_count": null,
   "metadata": {},
   "outputs": [],
   "source": [
    "min_length = 30\n",
    "max_length = 700\n",
    "filtered_data = data[(data['length'] >= min_length) & (data['length'] <= max_length)]\n",
    "print(len(filtered_data))\n",
    "plot_histogram(filtered_data, 'rss_perex')"
   ]
  },
  {
   "cell_type": "code",
   "execution_count": null,
   "metadata": {},
   "outputs": [],
   "source": [
    "plot_histogram(filtered_data, 'rss_title')"
   ]
  },
  {
   "cell_type": "code",
   "execution_count": null,
   "metadata": {},
   "outputs": [],
   "source": [
    "print_data_infos(filtered_data, 'rss_title')"
   ]
  },
  {
   "cell_type": "code",
   "execution_count": null,
   "metadata": {},
   "outputs": [],
   "source": [
    "min_title_length = 15\n",
    "max_title_length = 100\n",
    "filtered_data = filtered_data[(filtered_data['length'] >= min_title_length) & (filtered_data['length'] <= max_title_length)]\n",
    "print(len(filtered_data))\n",
    "plot_histogram(filtered_data, 'rss_title')"
   ]
  },
  {
   "cell_type": "code",
   "execution_count": null,
   "metadata": {},
   "outputs": [],
   "source": []
  }
 ],
 "metadata": {
  "kernelspec": {
   "display_name": "Python 3",
   "language": "python",
   "name": "python3"
  },
  "language_info": {
   "codemirror_mode": {
    "name": "ipython",
    "version": 3
   },
   "file_extension": ".py",
   "mimetype": "text/x-python",
   "name": "python",
   "nbconvert_exporter": "python",
   "pygments_lexer": "ipython3",
   "version": "3.12.3"
  }
 },
 "nbformat": 4,
 "nbformat_minor": 2
}
